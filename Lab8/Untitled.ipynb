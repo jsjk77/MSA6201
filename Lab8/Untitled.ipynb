{
 "cells": [
  {
   "cell_type": "code",
   "execution_count": 1,
   "id": "ca6d3fb8",
   "metadata": {},
   "outputs": [
    {
     "name": "stdout",
     "output_type": "stream",
     "text": [
      "Position 1: {'A': 0, 'C': 0, 'D': 0, 'E': 0, 'F': 0, 'G': 0, 'H': 0, 'I': 1, 'K': 0, 'L': 10, 'M': 2, 'N': 0, 'P': 0, 'Q': 0, 'R': 0, 'S': 0, 'T': 0, 'V': 0, 'W': 0, 'Y': 1}\n",
      "Position 2: {'A': 0, 'C': 0, 'D': 0, 'E': 0, 'F': 0, 'G': 0, 'H': 0, 'I': 0, 'K': 0, 'L': 0, 'M': 0, 'N': 0, 'P': 14, 'Q': 0, 'R': 0, 'S': 0, 'T': 0, 'V': 0, 'W': 0, 'Y': 0}\n",
      "Position 3: {'A': 0, 'C': 0, 'D': 0, 'E': 13, 'F': 0, 'G': 0, 'H': 0, 'I': 0, 'K': 0, 'L': 0, 'M': 0, 'N': 0, 'P': 0, 'Q': 1, 'R': 0, 'S': 0, 'T': 0, 'V': 0, 'W': 0, 'Y': 0}\n",
      "Position 4: {'A': 2, 'C': 0, 'D': 0, 'E': 0, 'F': 11, 'G': 0, 'H': 0, 'I': 0, 'K': 0, 'L': 0, 'M': 0, 'N': 1, 'P': 0, 'Q': 0, 'R': 0, 'S': 0, 'T': 0, 'V': 0, 'W': 0, 'Y': 0}\n",
      "Position 5: {'A': 0, 'C': 0, 'D': 0, 'E': 0, 'F': 3, 'G': 0, 'H': 0, 'I': 1, 'K': 0, 'L': 0, 'M': 0, 'N': 0, 'P': 0, 'Q': 0, 'R': 0, 'S': 0, 'T': 0, 'V': 0, 'W': 0, 'Y': 10}\n",
      "Position 6: {'A': 0, 'C': 0, 'D': 0, 'E': 0, 'F': 0, 'G': 0, 'H': 0, 'I': 0, 'K': 0, 'L': 13, 'M': 0, 'N': 0, 'P': 0, 'Q': 0, 'R': 0, 'S': 0, 'T': 1, 'V': 0, 'W': 0, 'Y': 0}\n",
      "Position 7: {'A': 0, 'C': 0, 'D': 0, 'E': 0, 'F': 3, 'G': 0, 'H': 0, 'I': 0, 'K': 1, 'L': 6, 'M': 0, 'N': 1, 'P': 0, 'Q': 0, 'R': 2, 'S': 1, 'T': 0, 'V': 0, 'W': 0, 'Y': 0}\n"
     ]
    }
   ],
   "source": [
    "sequences = [\n",
    "    \"LPEFYLF\",\n",
    "    \"LPEFYLF\",\n",
    "    \"IPEFYLL\",\n",
    "    \"LPEFYLL\",\n",
    "    \"LPEFYLL\",\n",
    "    \"MPEFYLL\",\n",
    "    \"LPEFYLL\",\n",
    "    \"MPEFYLL\",\n",
    "    \"LPEFYLS\",\n",
    "    \"LPEFYTF\",\n",
    "    \"LPEFILN\",\n",
    "    \"LPEAFLR\",\n",
    "    \"LPEAFLR\",\n",
    "    \"YPQNFLK\"\n",
    "]\n",
    "\n",
    "amino_acids = 'ACDEFGHIKLMNPQRSTVWY'\n",
    "count_matrix = []\n",
    "\n",
    "for seq in sequences:\n",
    "    for index, aa in enumerate(seq):\n",
    "        if len(count_matrix) <= index:\n",
    "            count_matrix.append({letter: 0 for letter in amino_acids})\n",
    "        count_matrix[index][aa] += 1\n",
    "\n",
    "for index, counts in enumerate(count_matrix, start=1):\n",
    "    print(f\"Position {index}: {counts}\")\n"
   ]
  },
  {
   "cell_type": "code",
   "execution_count": null,
   "id": "598f2c08",
   "metadata": {},
   "outputs": [],
   "source": []
  }
 ],
 "metadata": {
  "kernelspec": {
   "display_name": "Python 3 (ipykernel)",
   "language": "python",
   "name": "python3"
  },
  "language_info": {
   "codemirror_mode": {
    "name": "ipython",
    "version": 3
   },
   "file_extension": ".py",
   "mimetype": "text/x-python",
   "name": "python",
   "nbconvert_exporter": "python",
   "pygments_lexer": "ipython3",
   "version": "3.9.7"
  }
 },
 "nbformat": 4,
 "nbformat_minor": 5
}
